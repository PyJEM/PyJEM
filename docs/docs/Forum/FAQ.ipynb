{
 "cells": [
  {
   "cell_type": "markdown",
   "metadata": {},
   "source": [
    "# FAQ\n",
    "FAQ about PyJEM"
   ]
  },
  {
   "cell_type": "markdown",
   "metadata": {},
   "source": [
    "## What is TEMPC and Remote PC?\n",
    "\n",
    "### TEMPC\n",
    "\n",
    "![](image/TEMPC_pyjem.png)\n",
    "\n",
    "### RemotePC\n",
    "\n",
    "![](image/RemotePC_pyjem.png)\n",
    "\n",
    "## When the TEM unit can not be controlled with PyJEM\n",
    "If you try not to connect to TEM unit with PyJEM, please try the following method.\n",
    "\n",
    "### PyJEM in the TEMPC\n",
    "```python\n",
    ">>> import PyJEM \n",
    ">>> PyJEM.local()\n",
    "```\n",
    "\n",
    "### PyJEM in the RemotePC\n",
    "```python\n",
    ">>> import PyJEM \n",
    ">>> PyJEM.remote()\n",
    "```"
   ]
  },
  {
   "cell_type": "code",
   "execution_count": null,
   "metadata": {
    "collapsed": true
   },
   "outputs": [],
   "source": []
  }
 ],
 "metadata": {
  "kernelspec": {
   "display_name": "Python 3",
   "language": "python",
   "name": "python3"
  },
  "language_info": {
   "codemirror_mode": {
    "name": "ipython",
    "version": 3
   },
   "file_extension": ".py",
   "mimetype": "text/x-python",
   "name": "python",
   "nbconvert_exporter": "python",
   "pygments_lexer": "ipython3",
   "version": "3.5.1"
  }
 },
 "nbformat": 4,
 "nbformat_minor": 0
}
