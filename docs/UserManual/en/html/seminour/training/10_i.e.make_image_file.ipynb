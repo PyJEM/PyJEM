{
 "cells": [
  {
   "cell_type": "markdown",
   "metadata": {},
   "source": [
    "# Q1. 像の生画像データを取得して画像ファイルを作成する\n",
    "* onlineのみ\n",
    "* 像の生データはsnapshot_rawdata()で取得できる\n",
    "* 画像ファイルを作成するための画像の縦横比はget_detectorsetting()より取得できる  \n",
    " Height: get_detectorsetting()[\"OutputImageInformation\"][\"ImageSize\"][\"Height\"]  \n",
    " Width: get_detectorsetting()[\"OutputImageInformation\"][\"ImageSize\"][\"Width\"]\n",
    "* 画像データが配列のため、配列計算のためにnumpyを利用する  "
   ]
  },
  {
   "cell_type": "code",
   "execution_count": 1,
   "metadata": {
    "collapsed": false
   },
   "outputs": [
    {
     "name": "stdout",
     "output_type": "stream",
     "text": [
      "0 : camera\n",
      "1 : STEM Image\n"
     ]
    }
   ],
   "source": [
    "from PyJEM.offline import detector\n",
    "import numpy as np\n",
    "import matplotlib.pyplot as plt"
   ]
  },
  {
   "cell_type": "code",
   "execution_count": 10,
   "metadata": {
    "collapsed": false
   },
   "outputs": [
    {
     "name": "stdout",
     "output_type": "stream",
     "text": [
      "camera is Correct!\n"
     ]
    }
   ],
   "source": [
    "# 検出器の指定\n",
    "cam = detector.Detector(\"camera\")"
   ]
  },
  {
   "cell_type": "code",
   "execution_count": 18,
   "metadata": {
    "collapsed": false
   },
   "outputs": [],
   "source": [
    "image = cam.snapshot_rawdata()"
   ]
  },
  {
   "cell_type": "code",
   "execution_count": 14,
   "metadata": {
    "collapsed": false
   },
   "outputs": [],
   "source": [
    "data = cam.get_detectorsetting()\n",
    "height = data[\"OutputImageInformation\"][\"ImageSize\"][\"Height\"]\n",
    "width = data[\"OutputImageInformation\"][\"ImageSize\"][\"Width\"]"
   ]
  },
  {
   "cell_type": "code",
   "execution_count": 28,
   "metadata": {
    "collapsed": false
   },
   "outputs": [],
   "source": [
    "img = np.frombuffer(image,dtype=np.uint8)\n",
    "img = np.frombuffer(img, dtype='>i2')\n",
    "img = np.reshape(img, [height, width])\n",
    "img = img.astype(np.int8)"
   ]
  },
  {
   "cell_type": "code",
   "execution_count": null,
   "metadata": {
    "collapsed": true
   },
   "outputs": [],
   "source": []
  }
 ],
 "metadata": {
  "kernelspec": {
   "display_name": "Python 3",
   "language": "python",
   "name": "python3"
  },
  "language_info": {
   "codemirror_mode": {
    "name": "ipython",
    "version": 3
   },
   "file_extension": ".py",
   "mimetype": "text/x-python",
   "name": "python",
   "nbconvert_exporter": "python",
   "pygments_lexer": "ipython3",
   "version": "3.5.1"
  }
 },
 "nbformat": 4,
 "nbformat_minor": 0
}
