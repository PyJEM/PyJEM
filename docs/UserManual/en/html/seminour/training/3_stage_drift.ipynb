{
 "cells": [
  {
   "cell_type": "markdown",
   "metadata": {},
   "source": [
    "# A1. 複合処理 (offline用)\n",
    "ステージを動かし、動かしてからの時間経過ごとのずれ量を表示する  \n",
    "1. ステージを10um動かし、初期位置に戻す。\n",
    "2. 指定したループ回数増の撮影を行う。\n",
    "3. 一枚目の画像と、その後画像の比較を行い、ずれ量をグラフとして表示する"
   ]
  },
  {
   "cell_type": "code",
   "execution_count": 1,
   "metadata": {
    "collapsed": false
   },
   "outputs": [
    {
     "name": "stdout",
     "output_type": "stream",
     "text": [
      "0 : camera\n",
      "1 : STEM Image\n"
     ]
    }
   ],
   "source": [
    "%matplotlib inline\n",
    "import PyJEM\n",
    "import time\n",
    "from PyJEM.offline import detector\n",
    "from PyJEM.offline import TEM3\n",
    "import cv2\n",
    "import numpy as np\n",
    "import matplotlib.pyplot as plt\n",
    "import math"
   ]
  },
  {
   "cell_type": "code",
   "execution_count": 2,
   "metadata": {
    "collapsed": false
   },
   "outputs": [
    {
     "name": "stdout",
     "output_type": "stream",
     "text": [
      "camera is Correct!\n"
     ]
    }
   ],
   "source": [
    "_detector = detector.Detector(\"camera\")"
   ]
  },
  {
   "cell_type": "code",
   "execution_count": 3,
   "metadata": {
    "collapsed": false
   },
   "outputs": [
    {
     "data": {
      "text/plain": [
       "array([[ 77,  88,  95, ...,   0,   0,   0],\n",
       "       [160, 156,  83, ...,   0,   0,   0],\n",
       "       [157, 137, 143, ...,   0,   0,   0],\n",
       "       ..., \n",
       "       [145, 138, 153, ..., 255, 255, 255],\n",
       "       [ 94,  82,  37, ..., 255, 255, 255],\n",
       "       [ 91, 141, 122, ..., 255, 255, 255]], dtype=uint8)"
      ]
     },
     "execution_count": 3,
     "metadata": {},
     "output_type": "execute_result"
    }
   ],
   "source": [
    "_detector.snapshot(\"jpg\", save=True, filename=\"test\")"
   ]
  },
  {
   "cell_type": "code",
   "execution_count": 6,
   "metadata": {
    "collapsed": false
   },
   "outputs": [
    {
     "name": "stdout",
     "output_type": "stream",
     "text": [
      "input:10\n",
      "detectorName: camera\n",
      "extention: jpg\n",
      "camera is Correct!\n",
      "Start Python Script.\n",
      "No.1\n",
      "X = 0.0, Y = -1.1368683772161603e-13\n",
      "Distance = 1.1368683772161603e-13\n",
      "No.2\n",
      "X = 0.0, Y = -1.1368683772161603e-13\n",
      "Distance = 1.1368683772161603e-13\n",
      "No.3\n",
      "X = 0.0, Y = -1.1368683772161603e-13\n",
      "Distance = 1.1368683772161603e-13\n",
      "No.4\n",
      "X = 0.0, Y = -1.1368683772161603e-13\n",
      "Distance = 1.1368683772161603e-13\n",
      "No.5\n",
      "X = 0.0, Y = -1.1368683772161603e-13\n",
      "Distance = 1.1368683772161603e-13\n",
      "No.6\n",
      "X = 0.0, Y = -1.1368683772161603e-13\n",
      "Distance = 1.1368683772161603e-13\n",
      "No.7\n",
      "X = 0.0, Y = -1.1368683772161603e-13\n",
      "Distance = 1.1368683772161603e-13\n",
      "No.8\n",
      "X = 0.0, Y = -1.1368683772161603e-13\n",
      "Distance = 1.1368683772161603e-13\n",
      "No.9\n",
      "X = 0.0, Y = -1.1368683772161603e-13\n",
      "Distance = 1.1368683772161603e-13\n",
      "No.10\n",
      "X = 0.0, Y = -1.1368683772161603e-13\n",
      "Distance = 1.1368683772161603e-13\n",
      "= End =\n",
      "Time = 1.7679926167919007 sec\n",
      "Drift = 6.430277855340014e-14 (pixels / sec)\n"
     ]
    },
    {
     "data": {
      "image/png": "[encoded data removed]",
      "text/plain": [
       "<matplotlib.figure.Figure at 0x169c24bf748>"
      ]
     },
     "metadata": {},
     "output_type": "display_data"
    }
   ],
   "source": [
    "num = int(input(\"input:\"))\n",
    "detectorName = input(\"detectorName: \")\n",
    "extention = input(\"extention: \")\n",
    "\n",
    "_stage = TEM3.Stage3()\n",
    "_detector = detector.Detector(detectorName)\n",
    "\n",
    "print (\"Start Python Script.\")\n",
    "\n",
    "_stage.SetXRel(10000)\n",
    "_stage.SetYRel(10000)\n",
    "\n",
    "_stage.SetXRel(-10000)\n",
    "_stage.SetYRel(-10000)\n",
    "\n",
    "time.sleep(1)\n",
    "\n",
    "st = time.clock()\n",
    "\n",
    "for i in range(num+1):\n",
    "    if ( i == 0):\n",
    "        _detector.snapshot(extention, save=True, filename=\"test\" + str(i))\n",
    "\n",
    "    elif( i > 0):\n",
    "        _detector.snapshot(extention, save=True, filename=\"test\" + str(i))\n",
    "\n",
    "        img1 = cv2.imread(detector.resource_path + \"\\\\test\" + str(0) + \".\" + extention, 0)\n",
    "        img2 = cv2.imread(detector.resource_path + \"\\\\test\" + str(i) + \".\" + extention, 0)\n",
    "\n",
    "        img1 = np.float32(img1)\n",
    "        img2 = np.float32(img2)\n",
    "\n",
    "        print (\"No.\" + str(i))\n",
    "        value,b = cv2.phaseCorrelate(img1,img2)\n",
    "        print (\"X = \" + str(value[0]) + \", Y = \" + str(value[1]))\n",
    "\n",
    "        distance = math.sqrt((value[0]*value[0]) + (value[1]*value[1]))\n",
    "        print (\"Distance = \" + str(distance))\n",
    "\n",
    "        plt.plot(i, distance, \"o\")\n",
    "\n",
    "fin = time.clock()\n",
    "print (\"= End =\")\n",
    "print (\"Time = \"+str(fin - st) + \" sec\")\n",
    "print (\"Drift = \" + str(distance / (fin - st)) + \" (pixels / sec)\")\n",
    "plt.show()"
   ]
  },
  {
   "cell_type": "code",
   "execution_count": 7,
   "metadata": {
    "collapsed": false
   },
   "outputs": [
    {
     "name": "stdout",
     "output_type": "stream",
     "text": [
      "Help on function plot in module matplotlib.pyplot:\n",
      "\n",
      "plot(*args, **kwargs)\n",
      "    Plot lines and/or markers to the\n",
      "    :class:`~matplotlib.axes.Axes`.  *args* is a variable length\n",
      "    argument, allowing for multiple *x*, *y* pairs with an\n",
      "    optional format string.  For example, each of the following is\n",
      "    legal::\n",
      "    \n",
      "        plot(x, y)        # plot x and y using default line style and color\n",
      "        plot(x, y, 'bo')  # plot x and y using blue circle markers\n",
      "        plot(y)           # plot y using x as index array 0..N-1\n",
      "        plot(y, 'r+')     # ditto, but with red plusses\n",
      "    \n",
      "    If *x* and/or *y* is 2-dimensional, then the corresponding columns\n",
      "    will be plotted.\n",
      "    \n",
      "    If used with labeled data, make sure that the color spec is not\n",
      "    included as an element in data, as otherwise the last case\n",
      "    ``plot(\"v\",\"r\", data={\"v\":..., \"r\":...)``\n",
      "    can be interpreted as the first case which would do ``plot(v, r)``\n",
      "    using the default line style and color.\n",
      "    \n",
      "    If not used with labeled data (i.e., without a data argument),\n",
      "    an arbitrary number of *x*, *y*, *fmt* groups can be specified, as in::\n",
      "    \n",
      "        a.plot(x1, y1, 'g^', x2, y2, 'g-')\n",
      "    \n",
      "    Return value is a list of lines that were added.\n",
      "    \n",
      "    By default, each line is assigned a different style specified by a\n",
      "    'style cycle'.  To change this behavior, you can edit the\n",
      "    axes.prop_cycle rcParam.\n",
      "    \n",
      "    The following format string characters are accepted to control\n",
      "    the line style or marker:\n",
      "    \n",
      "    ================    ===============================\n",
      "    character           description\n",
      "    ================    ===============================\n",
      "    ``'-'``             solid line style\n",
      "    ``'--'``            dashed line style\n",
      "    ``'-.'``            dash-dot line style\n",
      "    ``':'``             dotted line style\n",
      "    ``'.'``             point marker\n",
      "    ``','``             pixel marker\n",
      "    ``'o'``             circle marker\n",
      "    ``'v'``             triangle_down marker\n",
      "    ``'^'``             triangle_up marker\n",
      "    ``'<'``             triangle_left marker\n",
      "    ``'>'``             triangle_right marker\n",
      "    ``'1'``             tri_down marker\n",
      "    ``'2'``             tri_up marker\n",
      "    ``'3'``             tri_left marker\n",
      "    ``'4'``             tri_right marker\n",
      "    ``'s'``             square marker\n",
      "    ``'p'``             pentagon marker\n",
      "    ``'*'``             star marker\n",
      "    ``'h'``             hexagon1 marker\n",
      "    ``'H'``             hexagon2 marker\n",
      "    ``'+'``             plus marker\n",
      "    ``'x'``             x marker\n",
      "    ``'D'``             diamond marker\n",
      "    ``'d'``             thin_diamond marker\n",
      "    ``'|'``             vline marker\n",
      "    ``'_'``             hline marker\n",
      "    ================    ===============================\n",
      "    \n",
      "    \n",
      "    The following color abbreviations are supported:\n",
      "    \n",
      "    ==========  ========\n",
      "    character   color\n",
      "    ==========  ========\n",
      "    'b'         blue\n",
      "    'g'         green\n",
      "    'r'         red\n",
      "    'c'         cyan\n",
      "    'm'         magenta\n",
      "    'y'         yellow\n",
      "    'k'         black\n",
      "    'w'         white\n",
      "    ==========  ========\n",
      "    \n",
      "    In addition, you can specify colors in many weird and\n",
      "    wonderful ways, including full names (``'green'``), hex\n",
      "    strings (``'#008000'``), RGB or RGBA tuples (``(0,1,0,1)``) or\n",
      "    grayscale intensities as a string (``'0.8'``).  Of these, the\n",
      "    string specifications can be used in place of a ``fmt`` group,\n",
      "    but the tuple forms can be used only as ``kwargs``.\n",
      "    \n",
      "    Line styles and colors are combined in a single format string, as in\n",
      "    ``'bo'`` for blue circles.\n",
      "    \n",
      "    The *kwargs* can be used to set line properties (any property that has\n",
      "    a ``set_*`` method).  You can use this to set a line label (for auto\n",
      "    legends), linewidth, anitialising, marker face color, etc.  Here is an\n",
      "    example::\n",
      "    \n",
      "        plot([1,2,3], [1,2,3], 'go-', label='line 1', linewidth=2)\n",
      "        plot([1,2,3], [1,4,9], 'rs',  label='line 2')\n",
      "        axis([0, 4, 0, 10])\n",
      "        legend()\n",
      "    \n",
      "    If you make multiple lines with one plot command, the kwargs\n",
      "    apply to all those lines, e.g.::\n",
      "    \n",
      "        plot(x1, y1, x2, y2, antialiased=False)\n",
      "    \n",
      "    Neither line will be antialiased.\n",
      "    \n",
      "    You do not need to use format strings, which are just\n",
      "    abbreviations.  All of the line properties can be controlled\n",
      "    by keyword arguments.  For example, you can set the color,\n",
      "    marker, linestyle, and markercolor with::\n",
      "    \n",
      "        plot(x, y, color='green', linestyle='dashed', marker='o',\n",
      "             markerfacecolor='blue', markersize=12).\n",
      "    \n",
      "    See :class:`~matplotlib.lines.Line2D` for details.\n",
      "    \n",
      "    The kwargs are :class:`~matplotlib.lines.Line2D` properties:\n",
      "    \n",
      "      agg_filter: unknown\n",
      "      alpha: float (0.0 transparent through 1.0 opaque) \n",
      "      animated: [True | False] \n",
      "      antialiased or aa: [True | False] \n",
      "      axes: an :class:`~matplotlib.axes.Axes` instance \n",
      "      clip_box: a :class:`matplotlib.transforms.Bbox` instance \n",
      "      clip_on: [True | False] \n",
      "      clip_path: [ (:class:`~matplotlib.path.Path`, :class:`~matplotlib.transforms.Transform`) | :class:`~matplotlib.patches.Patch` | None ] \n",
      "      color or c: any matplotlib color \n",
      "      contains: a callable function \n",
      "      dash_capstyle: ['butt' | 'round' | 'projecting'] \n",
      "      dash_joinstyle: ['miter' | 'round' | 'bevel'] \n",
      "      dashes: sequence of on/off ink in points \n",
      "      drawstyle: ['default' | 'steps' | 'steps-pre' | 'steps-mid' | 'steps-post'] \n",
      "      figure: a :class:`matplotlib.figure.Figure` instance \n",
      "      fillstyle: ['full' | 'left' | 'right' | 'bottom' | 'top' | 'none'] \n",
      "      gid: an id string \n",
      "      label: string or anything printable with '%s' conversion. \n",
      "      linestyle or ls: ['solid' | 'dashed', 'dashdot', 'dotted' | (offset, on-off-dash-seq) | ``'-'`` | ``'--'`` | ``'-.'`` | ``':'`` | ``'None'`` | ``' '`` | ``''``]\n",
      "      linewidth or lw: float value in points \n",
      "      marker: :mod:`A valid marker style <matplotlib.markers>`\n",
      "      markeredgecolor or mec: any matplotlib color \n",
      "      markeredgewidth or mew: float value in points \n",
      "      markerfacecolor or mfc: any matplotlib color \n",
      "      markerfacecoloralt or mfcalt: any matplotlib color \n",
      "      markersize or ms: float \n",
      "      markevery: [None | int | length-2 tuple of int | slice | list/array of int | float | length-2 tuple of float]\n",
      "      path_effects: unknown\n",
      "      picker: float distance in points or callable pick function ``fn(artist, event)`` \n",
      "      pickradius: float distance in points \n",
      "      rasterized: [True | False | None] \n",
      "      sketch_params: unknown\n",
      "      snap: unknown\n",
      "      solid_capstyle: ['butt' | 'round' |  'projecting'] \n",
      "      solid_joinstyle: ['miter' | 'round' | 'bevel'] \n",
      "      transform: a :class:`matplotlib.transforms.Transform` instance \n",
      "      url: a url string \n",
      "      visible: [True | False] \n",
      "      xdata: 1D array \n",
      "      ydata: 1D array \n",
      "      zorder: any number \n",
      "    \n",
      "    kwargs *scalex* and *scaley*, if defined, are passed on to\n",
      "    :meth:`~matplotlib.axes.Axes.autoscale_view` to determine\n",
      "    whether the *x* and *y* axes are autoscaled; the default is\n",
      "    *True*.\n",
      "    \n",
      "    Notes\n",
      "    -----\n",
      "    \n",
      "    In addition to the above described arguments, this function can take a\n",
      "    **data** keyword argument. If such a **data** argument is given, the\n",
      "    following arguments are replaced by **data[<arg>]**:\n",
      "    \n",
      "    * All arguments with the following names: 'y', 'x'.\n",
      "    \n",
      "    \n",
      "    \n",
      "    \n",
      "    Additional kwargs: hold = [True|False] overrides default hold state\n",
      "\n"
     ]
    }
   ],
   "source": [
    "help(plt.plot)"
   ]
  },
  {
   "cell_type": "code",
   "execution_count": null,
   "metadata": {
    "collapsed": true
   },
   "outputs": [],
   "source": []
  }
 ],
 "metadata": {
  "kernelspec": {
   "display_name": "Python 3",
   "language": "python",
   "name": "python3"
  },
  "language_info": {
   "codemirror_mode": {
    "name": "ipython",
    "version": 3
   },
   "file_extension": ".py",
   "mimetype": "text/x-python",
   "name": "python",
   "nbconvert_exporter": "python",
   "pygments_lexer": "ipython3",
   "version": "3.5.1"
  }
 },
 "nbformat": 4,
 "nbformat_minor": 0
}
