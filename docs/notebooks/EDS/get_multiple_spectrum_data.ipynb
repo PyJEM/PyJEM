{
 "cells": [
  {
   "cell_type": "code",
   "execution_count": 28,
   "id": "b4c41d08",
   "metadata": {},
   "outputs": [],
   "source": [
    "from PyJEM import detectorext\n",
    "from PyJEM import eds\n",
    "\n",
    "import PyJEM\n",
    "PyJEM.__version__\n",
    "\n",
    "import numpy as np\n",
    "import matplotlib.pyplot as plt"
   ]
  },
  {
   "cell_type": "code",
   "execution_count": 6,
   "id": "8370ffa0",
   "metadata": {},
   "outputs": [
    {
     "data": {
      "text/plain": [
       "{'status': 'OK'}"
      ]
     },
     "execution_count": 6,
     "metadata": {},
     "output_type": "execute_result"
    }
   ],
   "source": [
    "# 検出器の選択\n",
    "detectorext.function.assign_channel('HAADF', 1)"
   ]
  },
  {
   "cell_type": "code",
   "execution_count": 18,
   "id": "893fba41",
   "metadata": {},
   "outputs": [
    {
     "data": {
      "text/plain": [
       "{'status': 'OK'}"
      ]
     },
     "execution_count": 18,
     "metadata": {},
     "output_type": "execute_result"
    }
   ],
   "source": [
    "# アノテーション配置する\n",
    "args = {'LUTScanSetting': {'LookUpTable': '[]',\n",
    "  'Shape': 2,#Line\n",
    "  'Position': [[-0.5, -0.5], [0.5, 0.5]],\n",
    "  'PixelResolution': 2,\n",
    "  'IgnorePixelCount': 0,\n",
    "  'BlankingCount': 0}}\n",
    "\n",
    "detectorext.set_LUTscansetting(args)"
   ]
  },
  {
   "cell_type": "code",
   "execution_count": 19,
   "id": "0722c15f",
   "metadata": {},
   "outputs": [
    {
     "data": {
      "text/plain": [
       "{'ProcessTime': ['T1', None, None, None],\n",
       " 'DwellTime': 4700.0,\n",
       " 'CollectionMode': 3,\n",
       " 'SweepCount': 1,\n",
       " 'EnableScanSync': False,\n",
       " 'EDSSelected': True}"
      ]
     },
     "execution_count": 19,
     "metadata": {},
     "output_type": "execute_result"
    }
   ],
   "source": [
    "# EDS の各種パラメタ設定\n",
    "args2 = {'ProcessTime': ['T1', None, None, None],\n",
    " 'DwellTime': 4700.0,\n",
    " 'CollectionMode': 3,\n",
    " 'SweepCount': 1,\n",
    " 'EnableScanSync': False,\n",
    " 'EDSSelected': True}\n",
    "\n",
    "eds.set_acquisition_settings(args2)"
   ]
  },
  {
   "cell_type": "code",
   "execution_count": 20,
   "id": "4048655b",
   "metadata": {},
   "outputs": [
    {
     "data": {
      "text/plain": [
       "{'Version': '08', 'DataID': '7498587e-cfbd-43a9-9ed4-79b3f7b9117d'}"
      ]
     },
     "execution_count": 20,
     "metadata": {},
     "output_type": "execute_result"
    }
   ],
   "source": [
    "# スタート\n",
    "data_id = eds.start_acquisition()\n",
    "data_id"
   ]
  },
  {
   "cell_type": "markdown",
   "id": "0da796e1",
   "metadata": {},
   "source": [
    "## get_spectrum_data"
   ]
  },
  {
   "cell_type": "code",
   "execution_count": 25,
   "id": "0f248400",
   "metadata": {},
   "outputs": [],
   "source": [
    "# get spectrum data\n",
    "binary_spectrum_data = eds.get_multiple_spectrum_data({\"TargetDataID\" : data_id[\"DataID\"]})"
   ]
  },
  {
   "cell_type": "code",
   "execution_count": 31,
   "id": "67d8ddc0",
   "metadata": {},
   "outputs": [
    {
     "data": {
      "image/png": "[encoded data removed]",
      "text/plain": [
       "<Figure size 432x288 with 1 Axes>"
      ]
     },
     "metadata": {
      "needs_background": "light"
     },
     "output_type": "display_data"
    }
   ],
   "source": [
    "def to_graph(binary):\n",
    "    # Divide binary data into 4-byte units\n",
    "    binary_intensity_list = [binary[i:i+4] for i in range(0, len(binary), 4)]\n",
    "\n",
    "    # バイナリデータをintegerに変換する\n",
    "    intnum = []\n",
    "    for intensity in binary_intensity_list:\n",
    "        intnum.append( int.from_bytes(intensity, byteorder=\"little\"))\n",
    "\n",
    "    data = np.array_split(intnum, len(intnum) / 2048)\n",
    "    ans = data[0] # 適当に初期化\n",
    "    len(data)\n",
    "    \n",
    "    # 全部足したらEDS Whole Spectrumと一致\n",
    "    for i in range(0, len(data)):\n",
    "        ans = ans + data[i]\n",
    "        \n",
    "    # EDS Whole Spectrumと一致する\n",
    "    %matplotlib inline\n",
    "    plt.plot(intnum)\n",
    "    \n",
    "to_graph(binary_spectrum_data)"
   ]
  },
  {
   "cell_type": "code",
   "execution_count": null,
   "id": "925414c1",
   "metadata": {},
   "outputs": [],
   "source": []
  }
 ],
 "metadata": {
  "kernelspec": {
   "display_name": "Python 3 (ipykernel)",
   "language": "python",
   "name": "python3"
  },
  "language_info": {
   "codemirror_mode": {
    "name": "ipython",
    "version": 3
   },
   "file_extension": ".py",
   "mimetype": "text/x-python",
   "name": "python",
   "nbconvert_exporter": "python",
   "pygments_lexer": "ipython3",
   "version": "3.8.10"
  }
 },
 "nbformat": 4,
 "nbformat_minor": 5
}
