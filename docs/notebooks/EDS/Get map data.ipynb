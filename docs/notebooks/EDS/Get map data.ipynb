{
 "cells": [
  {
   "cell_type": "code",
   "execution_count": 1,
   "id": "d31f778f",
   "metadata": {},
   "outputs": [
    {
     "ename": "ModuleNotFoundError",
     "evalue": "No module named 'seaborn'",
     "output_type": "error",
     "traceback": [
      "\u001b[1;31m---------------------------------------------------------------------------\u001b[0m",
      "\u001b[1;31mModuleNotFoundError\u001b[0m                       Traceback (most recent call last)",
      "\u001b[1;32m~\\AppData\\Local\\Temp/ipykernel_11488/318836028.py\u001b[0m in \u001b[0;36m<module>\u001b[1;34m\u001b[0m\n\u001b[0;32m      5\u001b[0m \u001b[0mPyJEM\u001b[0m\u001b[1;33m.\u001b[0m\u001b[0m__version__\u001b[0m\u001b[1;33m\u001b[0m\u001b[1;33m\u001b[0m\u001b[0m\n\u001b[0;32m      6\u001b[0m \u001b[1;33m\u001b[0m\u001b[0m\n\u001b[1;32m----> 7\u001b[1;33m \u001b[1;32mimport\u001b[0m \u001b[0mseaborn\u001b[0m \u001b[1;32mas\u001b[0m \u001b[0msns\u001b[0m\u001b[1;33m\u001b[0m\u001b[1;33m\u001b[0m\u001b[0m\n\u001b[0m\u001b[0;32m      8\u001b[0m \u001b[1;32mimport\u001b[0m \u001b[0mmatplotlib\u001b[0m\u001b[1;33m.\u001b[0m\u001b[0mpyplot\u001b[0m \u001b[1;32mas\u001b[0m \u001b[0mplt\u001b[0m\u001b[1;33m\u001b[0m\u001b[1;33m\u001b[0m\u001b[0m\n",
      "\u001b[1;31mModuleNotFoundError\u001b[0m: No module named 'seaborn'"
     ]
    }
   ],
   "source": [
    "from PyJEM import detectorext\n",
    "from PyJEM import eds\n",
    "\n",
    "import PyJEM\n",
    "PyJEM.__version__\n",
    "\n",
    "import seaborn as sns\n",
    "import matplotlib.pyplot as plt"
   ]
  },
  {
   "cell_type": "code",
   "execution_count": 2,
   "id": "e5771ffd",
   "metadata": {},
   "outputs": [
    {
     "data": {
      "text/plain": [
       "{'status': 'OK'}"
      ]
     },
     "execution_count": 2,
     "metadata": {},
     "output_type": "execute_result"
    }
   ],
   "source": [
    "# 検出器の選択\n",
    "detectorext.function.assign_channel('HAADF', 1)"
   ]
  },
  {
   "cell_type": "code",
   "execution_count": 4,
   "id": "13c1f091",
   "metadata": {},
   "outputs": [
    {
     "data": {
      "text/plain": [
       "{'status': 'OK'}"
      ]
     },
     "execution_count": 4,
     "metadata": {},
     "output_type": "execute_result"
    }
   ],
   "source": [
    "# アノテーション配置する\n",
    "args = {'LUTScanSetting': {'LookUpTable': '[]',\n",
    "  'Shape': 3,#Line\n",
    "  'Position': [[-1, -1], [1, 1]],\n",
    "  'PixelResolution': 2,\n",
    "  'IgnorePixelCount': 0,\n",
    "  'BlankingCount': 0}}\n",
    "\n",
    "detectorext.set_LUTscansetting(args)"
   ]
  },
  {
   "cell_type": "code",
   "execution_count": 5,
   "id": "c522df46",
   "metadata": {},
   "outputs": [
    {
     "data": {
      "text/plain": [
       "{'ProcessTime': ['T1', None, None, None],\n",
       " 'DwellTime': 4700.0,\n",
       " 'CollectionMode': 3,\n",
       " 'SweepCount': 1,\n",
       " 'EnableScanSync': False,\n",
       " 'EDSSelected': True}"
      ]
     },
     "execution_count": 5,
     "metadata": {},
     "output_type": "execute_result"
    }
   ],
   "source": [
    "# EDS の各種パラメタ設定\n",
    "args2 = {'ProcessTime': ['T1', None, None, None],\n",
    " 'DwellTime': 4700.0,\n",
    " 'CollectionMode': 3,\n",
    " 'SweepCount': 1,\n",
    " 'EnableScanSync': False,\n",
    " 'EDSSelected': True}\n",
    "\n",
    "eds.set_acquisition_settings(args2)"
   ]
  },
  {
   "cell_type": "code",
   "execution_count": 6,
   "id": "5ff0e13c",
   "metadata": {},
   "outputs": [
    {
     "data": {
      "text/plain": [
       "{'Version': '08', 'DataID': 'ca9b9a3d-0841-4e6b-9d36-f09e08954132'}"
      ]
     },
     "execution_count": 6,
     "metadata": {},
     "output_type": "execute_result"
    }
   ],
   "source": [
    "# スタート\n",
    "data_id = eds.start_acquisition()\n",
    "data_id"
   ]
  },
  {
   "cell_type": "markdown",
   "id": "ac80fff8",
   "metadata": {},
   "source": [
    "## get_spectrum_data"
   ]
  },
  {
   "cell_type": "code",
   "execution_count": 8,
   "id": "50437f48",
   "metadata": {},
   "outputs": [
    {
     "ename": "TypeError",
     "evalue": "unhashable type: 'slice'",
     "output_type": "error",
     "traceback": [
      "\u001b[1;31m---------------------------------------------------------------------------\u001b[0m",
      "\u001b[1;31mTypeError\u001b[0m                                 Traceback (most recent call last)",
      "\u001b[1;32m~\\AppData\\Local\\Temp/ipykernel_27676/3709579470.py\u001b[0m in \u001b[0;36m<module>\u001b[1;34m\u001b[0m\n\u001b[0;32m      3\u001b[0m \u001b[1;33m\u001b[0m\u001b[0m\n\u001b[0;32m      4\u001b[0m \u001b[1;31m# Divide binary data into 4-byte units\u001b[0m\u001b[1;33m\u001b[0m\u001b[1;33m\u001b[0m\u001b[1;33m\u001b[0m\u001b[0m\n\u001b[1;32m----> 5\u001b[1;33m \u001b[0mbinary_intensity_list\u001b[0m \u001b[1;33m=\u001b[0m \u001b[1;33m[\u001b[0m\u001b[0mbinary\u001b[0m\u001b[1;33m[\u001b[0m\u001b[0mi\u001b[0m\u001b[1;33m:\u001b[0m\u001b[0mi\u001b[0m\u001b[1;33m+\u001b[0m\u001b[1;36m4\u001b[0m\u001b[1;33m]\u001b[0m \u001b[1;32mfor\u001b[0m \u001b[0mi\u001b[0m \u001b[1;32min\u001b[0m \u001b[0mrange\u001b[0m\u001b[1;33m(\u001b[0m\u001b[1;36m0\u001b[0m\u001b[1;33m,\u001b[0m \u001b[0mlen\u001b[0m\u001b[1;33m(\u001b[0m\u001b[0mbinary\u001b[0m\u001b[1;33m)\u001b[0m\u001b[1;33m,\u001b[0m \u001b[1;36m4\u001b[0m\u001b[1;33m)\u001b[0m\u001b[1;33m]\u001b[0m\u001b[1;33m\u001b[0m\u001b[1;33m\u001b[0m\u001b[0m\n\u001b[0m\u001b[0;32m      6\u001b[0m \u001b[1;33m\u001b[0m\u001b[0m\n\u001b[0;32m      7\u001b[0m \u001b[1;31m# Translate binary data to int.\u001b[0m\u001b[1;33m\u001b[0m\u001b[1;33m\u001b[0m\u001b[1;33m\u001b[0m\u001b[0m\n",
      "\u001b[1;32m~\\AppData\\Local\\Temp/ipykernel_27676/3709579470.py\u001b[0m in \u001b[0;36m<listcomp>\u001b[1;34m(.0)\u001b[0m\n\u001b[0;32m      3\u001b[0m \u001b[1;33m\u001b[0m\u001b[0m\n\u001b[0;32m      4\u001b[0m \u001b[1;31m# Divide binary data into 4-byte units\u001b[0m\u001b[1;33m\u001b[0m\u001b[1;33m\u001b[0m\u001b[1;33m\u001b[0m\u001b[0m\n\u001b[1;32m----> 5\u001b[1;33m \u001b[0mbinary_intensity_list\u001b[0m \u001b[1;33m=\u001b[0m \u001b[1;33m[\u001b[0m\u001b[0mbinary\u001b[0m\u001b[1;33m[\u001b[0m\u001b[0mi\u001b[0m\u001b[1;33m:\u001b[0m\u001b[0mi\u001b[0m\u001b[1;33m+\u001b[0m\u001b[1;36m4\u001b[0m\u001b[1;33m]\u001b[0m \u001b[1;32mfor\u001b[0m \u001b[0mi\u001b[0m \u001b[1;32min\u001b[0m \u001b[0mrange\u001b[0m\u001b[1;33m(\u001b[0m\u001b[1;36m0\u001b[0m\u001b[1;33m,\u001b[0m \u001b[0mlen\u001b[0m\u001b[1;33m(\u001b[0m\u001b[0mbinary\u001b[0m\u001b[1;33m)\u001b[0m\u001b[1;33m,\u001b[0m \u001b[1;36m4\u001b[0m\u001b[1;33m)\u001b[0m\u001b[1;33m]\u001b[0m\u001b[1;33m\u001b[0m\u001b[1;33m\u001b[0m\u001b[0m\n\u001b[0m\u001b[0;32m      6\u001b[0m \u001b[1;33m\u001b[0m\u001b[0m\n\u001b[0;32m      7\u001b[0m \u001b[1;31m# Translate binary data to int.\u001b[0m\u001b[1;33m\u001b[0m\u001b[1;33m\u001b[0m\u001b[1;33m\u001b[0m\u001b[0m\n",
      "\u001b[1;31mTypeError\u001b[0m: unhashable type: 'slice'"
     ]
    }
   ],
   "source": [
    "# get spectrum data\n",
    "binary = eds.get_map_data({\"TargetDataID\" : data_id[\"DataID\"]})\n",
    "\n",
    "# Divide binary data into 4-byte units\n",
    "binary_intensity_list = [binary[i:i+4] for i in range(0, len(binary), 4)]\n",
    "\n",
    "# Translate binary data to int.\n",
    "intnum = []\n",
    "for intensity in binary_intensity_list:\n",
    "    intnum.append( int.from_bytes(intensity, byteorder=\"little\"))\n",
    "\n",
    "pixels_y = 14\n",
    "data = list(np.array_split(intnum, pixels_y))\n",
    "sns.heatmap(data, square=True, cmap='gray')\n",
    "\n",
    "# Show the spectrum graph.\n",
    "%matplotlib inline\n",
    "plt.plot(intnum)\n",
    "    "
   ]
  },
  {
   "cell_type": "markdown",
   "id": "35798af1",
   "metadata": {},
   "source": [
    "## get_map_data"
   ]
  },
  {
   "cell_type": "code",
   "execution_count": 54,
   "id": "dd6e52bf",
   "metadata": {},
   "outputs": [
    {
     "data": {
      "text/plain": [
       "8192"
      ]
     },
     "execution_count": 54,
     "metadata": {},
     "output_type": "execute_result"
    }
   ],
   "source": [
    "len(binary_spectrum_data)"
   ]
  },
  {
   "cell_type": "markdown",
   "id": "8e75ebea",
   "metadata": {},
   "source": [
    "## create_count_map"
   ]
  },
  {
   "cell_type": "code",
   "execution_count": 16,
   "id": "5dbad4d0",
   "metadata": {},
   "outputs": [
    {
     "data": {
      "text/plain": [
       "{'Version': '08', 'Result': 'Fail', 'Message': 'This data id can not execute.'}"
      ]
     },
     "execution_count": 16,
     "metadata": {},
     "output_type": "execute_result"
    }
   ],
   "source": [
    "eds.create_count_map({\n",
    "            \"TargetDataID\" : data_id[\"DataID\"],\n",
    "            \"Elements\" : [\n",
    "                {\"ElementalNumber\" : 8, \"Line\" : \"K\"},\n",
    "                {\"ElementalNumber\" : 14, \"Line\" : \"L\"},\n",
    "                {\"ElementalNumber\" : 21, \"Line\" : \"M\"},\n",
    "            ],\n",
    "        \"TargetDetector\" : 1\n",
    "        })"
   ]
  },
  {
   "cell_type": "markdown",
   "id": "933885c7",
   "metadata": {},
   "source": [
    "## create_net_count_map"
   ]
  },
  {
   "cell_type": "code",
   "execution_count": 17,
   "id": "e1bc15bd",
   "metadata": {},
   "outputs": [
    {
     "data": {
      "text/plain": [
       "{'Version': '08',\n",
       " 'DataIDs': ['c0bc76f5-6511-4192-a303-2436c875e263'],\n",
       " 'Result': 'OK'}"
      ]
     },
     "execution_count": 17,
     "metadata": {},
     "output_type": "execute_result"
    }
   ],
   "source": [
    "eds.create_net_count_map({\n",
    "            \"TargetDataID\" : data_id[\"DataID\"],\n",
    "            \"Elements\" : [\n",
    "                {\"ElementalNumber\" : 8, \"Line\" : \"K\"},\n",
    "                {\"ElementalNumber\" : 14, \"Line\" : \"L\"},\n",
    "                {\"ElementalNumber\" : 25, \"Line\" : \"L\"},\n",
    "            ],\n",
    "            \"TargetDetector\" : 1\n",
    "        })"
   ]
  },
  {
   "cell_type": "code",
   "execution_count": null,
   "id": "2e40908c",
   "metadata": {},
   "outputs": [],
   "source": []
  }
 ],
 "metadata": {
  "kernelspec": {
   "display_name": "Python 3 (ipykernel)",
   "language": "python",
   "name": "python3"
  },
  "language_info": {
   "codemirror_mode": {
    "name": "ipython",
    "version": 3
   },
   "file_extension": ".py",
   "mimetype": "text/x-python",
   "name": "python",
   "nbconvert_exporter": "python",
   "pygments_lexer": "ipython3",
   "version": "3.8.10"
  }
 },
 "nbformat": 4,
 "nbformat_minor": 5
}
