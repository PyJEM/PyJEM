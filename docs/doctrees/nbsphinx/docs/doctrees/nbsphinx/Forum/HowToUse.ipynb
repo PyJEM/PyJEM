{
 "cells": [
  {
   "cell_type": "markdown",
   "metadata": {},
   "source": [
    "# How to Use\n",
    "## Tools\n",
    "### Spyder \n",
    "Spyder is an integrated development environment, intended to program scientific applications with python. We recommend using spyder as a programming environment using PyJEM.\n",
    "\n",
    "For details spyder, please visit  \n",
    "[spyder url] (https://github.com/spyder-ide/spyde)\n",
    "\n",
    "This page introduces how to start Spyder. The precondition is that Anaconda3 is installed.\n",
    "\n",
    "#### Starting method\n",
    "\n",
    "**Windows7**:\n",
    "\n",
    "1. Click [Start]\n",
    "2. Click [All Programs]\n",
    "\n",
    "![](image/windows7_start.png)  \n",
    "\n",
    "3. Click [Anaconda 3 (64-bit)]\n",
    "4. Click[Spyder]\n",
    "\n",
    "![](image/windows7_spyder_pos.png)\n",
    "\n",
    "**Windows10**:\n",
    "\n",
    "1. Click [Start]\n",
    "2. Click [All Programs]\n",
    "\n",
    "![](image/win10_start.png)\n",
    "\n",
    "3. Click [Anaconda 3 (64-bit)]\n",
    "4. Click[Spyder]\n",
    "\n",
    "![](image/win10_spyder_pos.png)\n",
    "\n",
    "#### About UI\n",
    "\n",
    "When you start Spyder, the following UI will be displayed. \n",
    "Below, since the red frame is SourceFile, you can write python code.\n",
    "\n",
    "![](image/spyder_UI_about_editor1.png)\n",
    "\n",
    "Below, the red frame becomes the Directory of SourceFile.\n",
    "\n",
    "![](image/spyder_UI_about_editor.png)\n",
    "\n",
    "Below, the red frame becomes the Ipython's Console. To exit Console, in the Console screen\n",
    "Right click and select [Quit]. To start a new Console, on the Console tab\n",
    "Right-click and select Open a new Console.\n",
    "\n",
    "![](image/spyder_UI_IPython.png)"
   ]
  },
  {
   "cell_type": "markdown",
   "metadata": {},
   "source": [
    "### Jupyter notebook"
   ]
  }
 ],
 "metadata": {
  "kernelspec": {
   "display_name": "Python 3",
   "language": "python",
   "name": "python3"
  },
  "language_info": {
   "codemirror_mode": {
    "name": "ipython",
    "version": 3
   },
   "file_extension": ".py",
   "mimetype": "text/x-python",
   "name": "python",
   "nbconvert_exporter": "python",
   "pygments_lexer": "ipython3",
   "version": "3.5.1"
  }
 },
 "nbformat": 4,
 "nbformat_minor": 0
}
