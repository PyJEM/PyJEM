{
 "cells": [
  {
   "cell_type": "markdown",
   "id": "78bcbf85",
   "metadata": {},
   "source": [
    "# Setup PyJEM"
   ]
  },
  {
   "cell_type": "markdown",
   "id": "f58e3587",
   "metadata": {},
   "source": [
    "前提条件は、JEOL納品のメディアに含まれるライセンスキーが必要\n"
   ]
  },
  {
   "cell_type": "markdown",
   "id": "35e456d6",
   "metadata": {},
   "source": []
  }
 ],
 "metadata": {
  "kernelspec": {
   "display_name": "Python 3 (ipykernel)",
   "language": "python",
   "name": "python3"
  },
  "language_info": {
   "codemirror_mode": {
    "name": "ipython",
    "version": 3
   },
   "file_extension": ".py",
   "mimetype": "text/x-python",
   "name": "python",
   "nbconvert_exporter": "python",
   "pygments_lexer": "ipython3",
   "version": "3.8.10"
  }
 },
 "nbformat": 4,
 "nbformat_minor": 5
}
