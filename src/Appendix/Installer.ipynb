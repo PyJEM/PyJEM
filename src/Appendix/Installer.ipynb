{
 "cells": [
  {
   "cell_type": "markdown",
   "id": "9912c830",
   "metadata": {},
   "source": [
    "# Installation\n",
    "PyJEM supports Anaconda or Miniconda environments."
   ]
  },
  {
   "cell_type": "markdown",
   "id": "4a67ab5a",
   "metadata": {},
   "source": [
    "## Miniconda\n",
    "***\n",
    "\n",
    "For users experienced with Python, the recommended way to install PyJEM with [Miniconda](https://docs.conda.io/en/latest/miniconda.html). Miniconda provides a very compact development environment using python. You can create a virtual environment on Miniconda. therefore, if you can download a recomend virtual environment file from [Forum](https://github.com/PyJEM/PyJEM), you can easiest make a recommendate virtual environment.   "
   ]
  },
  {
   "cell_type": "markdown",
   "id": "94e6ed75",
   "metadata": {},
   "source": [
    "## vjem (virtual env) \n",
    "***\n",
    "\n",
    "vjem is a recommendate virtual python environment.\n",
    "PyJEM supports multiple python versions, so please download the environment you wish to use from [Forum](https://github.com/PyJEM/PyJEM#vjem-python-virtual-environment).\n",
    "\n",
    "### Example: create vjem38\n",
    "\n",
    "#### 1. Open the [Forum page](https://github.com/PyJEM/PyJEM). Click the vjem38.yml link.\n",
    "\n",
    "<img src=\"images/forum_vjem_page.png\" width=\"50%\">\n",
    "\n",
    "#### 2. Download the yml file\n",
    "\n",
    "<img src=\"images/download_vjem38.png\" width=\"50%\">\n",
    "\n",
    "#### 3. Execute the following on the command line\n",
    "\n",
    "```conda create -f vjem_yml```\n",
    "\n",
    "※ *vjem_yml* is yml file's absolute path that has downloaded.\n",
    "\n",
    "#### 4. Confirm the vjem has been created.\n",
    "\n",
    "```\n",
    "> conda activate vjem38\n",
    "(vjem38) >  \n",
    "```\n",
    "If there is no error in activate, the environment has been successfully built."
   ]
  },
  {
   "cell_type": "markdown",
   "id": "f5f642b4",
   "metadata": {},
   "source": [
    "## PyJEM(VEM1342-11 and later)\n",
    "***\n",
    "\n",
    "It is installer to upgrade/downgrade the PyJEM library. please download the PyJEM.zip from the [Forum](https://github.com/PyJEM/PyJEM).  \n",
    "\n",
    "<img src=\"images/インストール手順.png\" width=\"40%\">"
   ]
  },
  {
   "cell_type": "markdown",
   "id": "ee6d0329",
   "metadata": {},
   "source": [
    "### Installation\n",
    "***\n",
    "\n",
    "#### 1. Select the virtual environment\n",
    " Select the python virtual environment name to install the PyJEM library in the combo-box.\n",
    "   ※ If the virtual environment name don't exist in box-list, please input the virtual environment name. \n",
    "   \n",
    "  ![](images/仮想環境の選択.png)\n",
    "\n",
    "#### 2. Select PyJEM package.   \n",
    "  <img src=\"images/ライブラリの選択.png\"  width=\"40%\">\n",
    "\n",
    "  - \"Default\" ⇒ Install the version included with the installer.\n",
    "  - [...] button ⇒ Install any version downloaded from the [Forum](https://github.com/PyJEM/PyJEM/releases).\n",
    "\n",
    "\n",
    "#### 3. Click the install button\n",
    "  When click the \"Install\" button, start the install method and output the install process message. \n",
    "  \n",
    "  <img src=\"images/インストールボタンの押下.png\" width=\"40%\">\n",
    "  \n"
   ]
  },
  {
   "cell_type": "markdown",
   "id": "327f3272",
   "metadata": {},
   "source": [
    "## PyJEM(VEM1342-7 to VEM1342-11)\n",
    "***\n",
    "\n",
    "This version of the installer has no UI.\n",
    "\n",
    "<img src=\"images/vem1342-11.png\" width=\"40%\">\n",
    "\n",
    "### Installation\n",
    "***\n",
    "Installation is only vjem35, vjem37, and vjem38 installations.\n",
    "\n",
    "1. run as administrator setup.bat\n",
    "\n",
    "### Update\n",
    "***\n",
    "Install any version downloaded from the [Forum](https://github.com/PyJEM/PyJEM/releases).\n",
    "\n",
    "#### 1. start cmd\n",
    "#### 2. activate virtual environment\n",
    "#### 3. mount media on any drive.\n",
    "Mount the iso configured on the media on any drive.\n",
    "\n",
    "<img src=\"images/vem1342-11.png\" width=\"40%\">\n",
    "\n",
    "#### 4. change directory \n",
    "change directory to 3. PyJEM folder.\n",
    "\n",
    "#### 5. run updater.exe\n",
    "Update the PyJEM using the updater.exe configured in media. \n",
    "\n",
    "  Arguments \n",
    "  - -l: License file path \n",
    "  - -p: Downloaded PyJEM file\n",
    "\n",
    "  Example\n",
    "  \n",
    "    '(vjem38) Z:/VEM1342-11/PyJEM>media/updater.exe -l media/library/LICENSE_KEY -p C:/Users/JEOL/Downloads/PyJEM.zip'"
   ]
  },
  {
   "cell_type": "markdown",
   "id": "a5a7a75b",
   "metadata": {},
   "source": []
  }
 ],
 "metadata": {
  "kernelspec": {
   "display_name": "Python 3 (ipykernel)",
   "language": "python",
   "name": "python3"
  },
  "language_info": {
   "codemirror_mode": {
    "name": "ipython",
    "version": 3
   },
   "file_extension": ".py",
   "mimetype": "text/x-python",
   "name": "python",
   "nbconvert_exporter": "python",
   "pygments_lexer": "ipython3",
   "version": "3.8.10"
  }
 },
 "nbformat": 4,
 "nbformat_minor": 5
}
