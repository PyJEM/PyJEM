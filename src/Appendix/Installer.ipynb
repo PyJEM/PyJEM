{
 "cells": [
  {
   "cell_type": "markdown",
   "id": "9912c830",
   "metadata": {},
   "source": [
    "# Installation\n",
    "PyJEM supports Anaconda or Miniconda environments."
   ]
  },
  {
   "cell_type": "markdown",
   "id": "4a67ab5a",
   "metadata": {},
   "source": [
    "## 1. Install Miniconda\n",
    "***\n",
    "\n",
    "For users experienced with Python, the recommended way to install PyJEM with [Miniconda](https://docs.conda.io/en/latest/miniconda.html). Miniconda provides a very compact development environment using python. You can create a virtual environment on Miniconda. therefore, if you can download a recomend virtual environment file from [Forum](https://github.com/PyJEM/PyJEM), you can easiest make a recommendate virtual environment.   "
   ]
  },
  {
   "cell_type": "markdown",
   "id": "94e6ed75",
   "metadata": {},
   "source": [
    "## 2. Create vjem \n",
    "***\n",
    "\n",
    "vjem is a recommendate virtual python environment.\n",
    "PyJEM supports multiple python versions, so please download the environment you wish to use from [Forum](https://github.com/PyJEM/PyJEM#vjem-python-virtual-environment).  \n",
    "The following is a procedure using vjem38 as an example.  \n",
    "\n",
    "**※ Prerequisite**: you must be connected to the Internet.\n",
    "\n",
    "\n",
    "### 2.1 Open the [Forum page](https://github.com/PyJEM/PyJEM). Click the vjem38.yml link.\n",
    "\n",
    "<img src=\"images/forum_vjem_page.png\" width=\"50%\">\n",
    "\n",
    "### 2.2 Download the yml file\n",
    "\n",
    "<img src=\"images/download_vjem38.png\" width=\"50%\">\n",
    "\n",
    "### 2.3 Execute the following on the command line\n",
    "\n",
    "```conda env create -f vjem_yml```\n",
    "\n",
    "※ *vjem_yml* is yml file's absolute path that has downloaded.\n",
    "\n",
    "### 2.4 Confirm the vjem has been created.\n",
    "\n",
    "```\n",
    "> conda activate vjem38\n",
    "(vjem38) >  \n",
    "```\n",
    "If there is no error in activate, the environment has been successfully built."
   ]
  },
  {
   "cell_type": "markdown",
   "id": "f5f642b4",
   "metadata": {},
   "source": [
    "## 3. Install PyJEM\n",
    "***\n",
    "It is installer to upgrade/downgrade the PyJEM library. please download the PyJEM.zip from the [Forum](https://github.com/PyJEM/PyJEM).  \n",
    "\n",
    "<img src=\"images/インストール手順.png\" width=\"40%\">\n",
    "\n",
    "**※This installer is included in the equipment package purchased.**\n",
    "\n",
    "### 3.1 Select virtual env name\n",
    "Select the python virtual environment name to install the PyJEM library in the combo-box.  \n",
    "   ※ If the virtual environment name don't exist in box-list, please input the virtual environment name. \n",
    "   \n",
    "  ![](images/仮想環境の選択.png)\n",
    "\n",
    "### 3.2 Select to install the PyJEM.zip\n",
    "  - **Default** : install the PyJEM library configured in the installer.\n",
    "  - **[...]** : It is able to install the downloaded PyJEM library. Please refer **[here](#anchor)** for download instructions.\n",
    "  \n",
    "  <img src=\"images/ライブラリの選択.png\"  width=\"40%\">\n",
    "\n",
    "### 3.3 Click the install button\n",
    "  When click the \"Install\" button, start the install method and output the install process message. \n",
    "  \n",
    "  <img src=\"images/インストールボタンの押下.png\" width=\"40%\">\n",
    "  "
   ]
  },
  {
   "cell_type": "markdown",
   "id": "bfddee49",
   "metadata": {},
   "source": [
    "<a id='anchor'></a>\n",
    "\n",
    "## Download PyJEM (package file)  \n",
    "\n",
    "***\n",
    "\n",
    "### 1. Click \"Tags\" on forum page\n",
    "<img src=\"images/download_pyjem_1.png\" width=\"50%\">\n",
    "\n",
    "### 2. Select the version you want to download, and click \"Downloads\"\n",
    "<img src=\"images/download_pyjem_2.png\" width=\"50%\">\n",
    "\n",
    "### 3. Click zip file\n",
    "<img src=\"images/download_pyjem_3.png\" width=\"50%\">\n"
   ]
  }
 ],
 "metadata": {
  "kernelspec": {
   "display_name": "Python 3 (ipykernel)",
   "language": "python",
   "name": "python3"
  },
  "language_info": {
   "codemirror_mode": {
    "name": "ipython",
    "version": 3
   },
   "file_extension": ".py",
   "mimetype": "text/x-python",
   "name": "python",
   "nbconvert_exporter": "python",
   "pygments_lexer": "ipython3",
   "version": "3.8.10"
  }
 },
 "nbformat": 4,
 "nbformat_minor": 5
}
