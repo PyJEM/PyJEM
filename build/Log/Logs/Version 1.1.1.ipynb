{
 "cells": [
  {
   "cell_type": "markdown",
   "id": "c15202d1",
   "metadata": {},
   "source": [
    "# Version 1.1.1\n",
    "***\n",
    "\n",
    "## Online/Offline\n",
    "## Switching between online/offline changes as follows\n",
    "\n",
    "> **Version 1.1.0 (before)**\n",
    ">\n",
    ">  ```python \n",
    ">  >>> from PyJEM import detecotor\n",
    ">  >>> detector.offline()\n",
    ">  ```\n",
    ">\n",
    "> **Version 1.1.1 (current)**\n",
    ">\n",
    ">  ```python \n",
    ">  >>> from PyJEM.offline import detector\n",
    ">  ```  \n",
    "## This change removes the following features.\n",
    "- offline()\n",
    "- online()\n",
    "- isonline()\n",
    "- get_connect_info()\n"
   ]
  }
 ],
 "metadata": {
  "kernelspec": {
   "display_name": "Python 3 (ipykernel)",
   "language": "python",
   "name": "python3"
  },
  "language_info": {
   "codemirror_mode": {
    "name": "ipython",
    "version": 3
   },
   "file_extension": ".py",
   "mimetype": "text/x-python",
   "name": "python",
   "nbconvert_exporter": "python",
   "pygments_lexer": "ipython3",
   "version": "3.8.10"
  }
 },
 "nbformat": 4,
 "nbformat_minor": 5
}
