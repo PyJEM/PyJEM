{
 "cells": [
  {
   "cell_type": "markdown",
   "id": "a6919f84",
   "metadata": {},
   "source": [
    "# Sample code (eds)\n",
    "\n",
    "This page contains sample code to start an EDS analysis with a specified detector and acquire Spectrum data.\n",
    "\n",
    "The packages used are eds, detectorext."
   ]
  },
  {
   "cell_type": "markdown",
   "id": "49909ccc",
   "metadata": {},
   "source": [
    "The functions to be introduced are as follows\n",
    "\n",
    "- Get a list of detectors that can be controlled\n",
    "- Get or set a detector information\n",
    "- Image capturing\n",
    "\n",
    "Prerequisites\n",
    "\n",
    "- DetectorService is running (in the case of online)\n",
    "- Femtus is running (in the case of online)\n",
    "- Ver.1.3.0 (Operation check environment)"
   ]
  },
  {
   "cell_type": "markdown",
   "id": "aa96f044",
   "metadata": {},
   "source": [
    "## 0. Import TEM3\n",
    "*** "
   ]
  },
  {
   "cell_type": "code",
   "execution_count": 1,
   "id": "b4c41d08",
   "metadata": {},
   "outputs": [],
   "source": [
    "from PyJEM import detectorext\n",
    "from PyJEM import eds\n",
    "\n",
    "import matplotlib.pyplot as plt"
   ]
  },
  {
   "cell_type": "markdown",
   "id": "367c0818",
   "metadata": {},
   "source": [
    "## 1. Select a detector"
   ]
  },
  {
   "cell_type": "code",
   "execution_count": 2,
   "id": "8370ffa0",
   "metadata": {},
   "outputs": [
    {
     "data": {
      "text/plain": [
       "{'status': 'OK'}"
      ]
     },
     "execution_count": 2,
     "metadata": {},
     "output_type": "execute_result"
    }
   ],
   "source": [
    "detectorext.function.assign_channel('HAADF', 1)"
   ]
  },
  {
   "cell_type": "markdown",
   "id": "1a62d6ff",
   "metadata": {},
   "source": [
    "## 2. Place annotations"
   ]
  },
  {
   "cell_type": "code",
   "execution_count": 3,
   "id": "893fba41",
   "metadata": {},
   "outputs": [
    {
     "data": {
      "text/plain": [
       "{'status': 'OK'}"
      ]
     },
     "execution_count": 3,
     "metadata": {},
     "output_type": "execute_result"
    }
   ],
   "source": [
    "args = {'LUTScanSetting': {'LookUpTable': '[]',\n",
    "  'Shape': 2,# Line=2, Square=3  \n",
    "  'Position': [[-1, -1], [1, 1]],\n",
    "  'PixelResolution': 2,\n",
    "  'IgnorePixelCount': 0,\n",
    "  'BlankingCount': 0}}\n",
    "\n",
    "detectorext.set_LUTscansetting(args)"
   ]
  },
  {
   "cell_type": "markdown",
   "id": "9ed5a57b",
   "metadata": {},
   "source": [
    "## 3. Set EDS parameter setting."
   ]
  },
  {
   "cell_type": "code",
   "execution_count": 4,
   "id": "0722c15f",
   "metadata": {},
   "outputs": [
    {
     "data": {
      "text/plain": [
       "{'ProcessTime': ['T1', None, None, None],\n",
       " 'DwellTime': 1000.0,\n",
       " 'CollectionMode': 3,\n",
       " 'SweepCount': 0,\n",
       " 'EnableScanSync': False,\n",
       " 'EDSSelected': True}"
      ]
     },
     "execution_count": 4,
     "metadata": {},
     "output_type": "execute_result"
    }
   ],
   "source": [
    "args2 = {'ProcessTime': ['T1', None, None, None],\n",
    " 'DwellTime': 4700.0,\n",
    " 'CollectionMode': 3,\n",
    " 'SweepCount': 1,\n",
    " 'EnableScanSync': False,\n",
    " 'EDSSelected': True}\n",
    "\n",
    "eds.set_acquisition_settings(args2)"
   ]
  },
  {
   "cell_type": "markdown",
   "id": "a7bbff16",
   "metadata": {},
   "source": [
    "## 4. Start acquisition"
   ]
  },
  {
   "cell_type": "code",
   "execution_count": 9,
   "id": "4048655b",
   "metadata": {},
   "outputs": [
    {
     "data": {
      "text/plain": [
       "{'Version': '08', 'DataID': 'e6b698ec-4209-44ba-a0ea-be3ebb507993'}"
      ]
     },
     "execution_count": 9,
     "metadata": {},
     "output_type": "execute_result"
    }
   ],
   "source": [
    "data_id = eds.start_acquisition()\n",
    "data_id"
   ]
  },
  {
   "cell_type": "markdown",
   "id": "0da796e1",
   "metadata": {},
   "source": [
    "## 5. get_spectrum_data"
   ]
  },
  {
   "cell_type": "code",
   "execution_count": 10,
   "id": "0f248400",
   "metadata": {},
   "outputs": [],
   "source": [
    "binary = eds.get_spectrum_data({\"TargetDataID\" : data_id[\"DataID\"]})"
   ]
  },
  {
   "cell_type": "markdown",
   "id": "6d494461",
   "metadata": {},
   "source": [
    "## 6. Output as graph"
   ]
  },
  {
   "cell_type": "code",
   "execution_count": 11,
   "id": "9f91f605",
   "metadata": {},
   "outputs": [
    {
     "data": {
      "text/plain": [
       "[<matplotlib.lines.Line2D at 0x2a68fc035e0>]"
      ]
     },
     "execution_count": 11,
     "metadata": {},
     "output_type": "execute_result"
    },
    {
     "data": {
      "image/png": "[encoded data removed]",
      "text/plain": [
       "<Figure size 432x288 with 1 Axes>"
      ]
     },
     "metadata": {
      "needs_background": "light"
     },
     "output_type": "display_data"
    }
   ],
   "source": [
    "# Divide binary data into 4-byte units\n",
    "binary_intensity_list = [binary[i:i+4] for i in range(0, len(binary), 4)]\n",
    "\n",
    "# Transfer binary data to int.\n",
    "intnum = []\n",
    "for intensity in binary_intensity_list:\n",
    "    intnum.append( int.from_bytes(intensity, byteorder=\"little\"))\n",
    "\n",
    "# Drawing on graphs (EDS Spectrum)\n",
    "%matplotlib inline\n",
    "plt.plot(intnum)"
   ]
  }
 ],
 "metadata": {
  "kernelspec": {
   "display_name": "Python 3 (ipykernel)",
   "language": "python",
   "name": "python3"
  },
  "language_info": {
   "codemirror_mode": {
    "name": "ipython",
    "version": 3
   },
   "file_extension": ".py",
   "mimetype": "text/x-python",
   "name": "python",
   "nbconvert_exporter": "python",
   "pygments_lexer": "ipython3",
   "version": "3.8.10"
  }
 },
 "nbformat": 4,
 "nbformat_minor": 5
}
